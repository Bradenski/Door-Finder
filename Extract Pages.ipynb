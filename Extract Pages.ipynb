{
 "cells": [
  {
   "cell_type": "code",
   "execution_count": 1,
   "id": "2efea5b3",
   "metadata": {},
   "outputs": [
    {
     "name": "stdout",
     "output_type": "stream",
     "text": [
      "Collecting pymupdf\n",
      "  Downloading pymupdf-1.26.3-cp39-abi3-win_amd64.whl (18.7 MB)\n",
      "     --------------------------------------- 18.7/18.7 MB 50.4 MB/s eta 0:00:00\n",
      "Installing collected packages: pymupdf\n",
      "Successfully installed pymupdf-1.26.3\n"
     ]
    }
   ],
   "source": [
    "! pip install --upgrade pymupdf"
   ]
  },
  {
   "cell_type": "code",
   "execution_count": 2,
   "id": "a3268dd6",
   "metadata": {},
   "outputs": [],
   "source": [
    "import pymupdf"
   ]
  },
  {
   "cell_type": "code",
   "execution_count": 3,
   "id": "d1acd3aa",
   "metadata": {},
   "outputs": [],
   "source": [
    "doc = pymupdf.open(\"sample_drawings.pdf\")"
   ]
  },
  {
   "cell_type": "code",
   "execution_count": 4,
   "id": "a7ac7b9a",
   "metadata": {},
   "outputs": [],
   "source": [
    "page = doc[0]\n",
    "paths = page.get_drawings()"
   ]
  },
  {
   "cell_type": "code",
   "execution_count": 16,
   "id": "8e71d42b",
   "metadata": {},
   "outputs": [],
   "source": [
    "zoom = 300/72 # 300 dpi\n",
    "for i, page in enumerate(doc):\n",
    "    mat = pymupdf.Matrix(zoom, zoom)\n",
    "    img = page.get_pixmap(matrix=mat)\n",
    "    img.save(\"./pages/page_%i.png\" % page.number)\n",
    "    "
   ]
  },
  {
   "cell_type": "code",
   "execution_count": 7,
   "id": "33c68463",
   "metadata": {},
   "outputs": [
    {
     "data": {
      "text/plain": [
       "39"
      ]
     },
     "execution_count": 7,
     "metadata": {},
     "output_type": "execute_result"
    }
   ],
   "source": [
    "len(doc)"
   ]
  },
  {
   "cell_type": "code",
   "execution_count": null,
   "id": "598489c7",
   "metadata": {},
   "outputs": [],
   "source": []
  },
  {
   "cell_type": "code",
   "execution_count": null,
   "id": "acc09490",
   "metadata": {},
   "outputs": [],
   "source": []
  }
 ],
 "metadata": {
  "kernelspec": {
   "display_name": "Python 3 (ipykernel)",
   "language": "python",
   "name": "python3"
  },
  "language_info": {
   "codemirror_mode": {
    "name": "ipython",
    "version": 3
   },
   "file_extension": ".py",
   "mimetype": "text/x-python",
   "name": "python",
   "nbconvert_exporter": "python",
   "pygments_lexer": "ipython3",
   "version": "3.10.9"
  }
 },
 "nbformat": 4,
 "nbformat_minor": 5
}
